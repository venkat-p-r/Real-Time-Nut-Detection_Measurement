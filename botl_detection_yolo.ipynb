{
 "cells": [
  {
   "cell_type": "code",
   "execution_count": 1,
   "metadata": {},
   "outputs": [],
   "source": [
    "from ultralytics import YOLO\n",
    "import numpy as np\n",
    "import cv2\n",
    "parameters = cv2.aruco.DetectorParameters_create()\n",
    "aruco_dict = cv2.aruco.Dictionary_get(cv2.aruco.DICT_5X5_50)\n",
    "model = YOLO(\"./bolt_weight.pt\")"
   ]
  },
  {
   "cell_type": "code",
   "execution_count": 2,
   "metadata": {},
   "outputs": [
    {
     "name": "stderr",
     "output_type": "stream",
     "text": [
      "\n",
      "image 1/1 /home/rapid/Documents/Projects/Nut and Bolt/measure_object_size/test.png: 384x640 1 Bolt, 315.0ms\n",
      "Speed: 3.2ms preprocess, 315.0ms inference, 5.5ms postprocess per image at shape (1, 3, 384, 640)\n",
      "qt.qpa.plugin: Could not find the Qt platform plugin \"wayland\" in \"\"\n"
     ]
    }
   ],
   "source": [
    "img_path = \"test.png\"\n",
    "img = cv2.imread(img_path)\n",
    "corners, _, _ = cv2.aruco.detectMarkers(img, aruco_dict, parameters=parameters)\n",
    "int_corners = np.int0(corners)\n",
    "try:\n",
    "    aruco_perimeter = cv2.arcLength(corners[0], True)\n",
    "except IndexError:\n",
    "    print(\"Marker is Not Detected\")\n",
    "pixel_cm_ratio = aruco_perimeter / 20\n",
    "predict = model.predict(img_path)\n",
    "mask = np.int0(predict[0].masks.xy)\n",
    "rect = cv2.minAreaRect(mask)\n",
    "(x, y), (w, h), angle = rect\n",
    "object_width = w / pixel_cm_ratio\n",
    "object_height = h / pixel_cm_ratio\n",
    "box = np.int0(cv2.boxPoints(rect))\n",
    "cv2.polylines(img, int_corners, True, (0, 255, 0), 5)\n",
    "cv2.polylines(img, [box], True, (255, 0, 0), 2)\n",
    "cv2.polylines(img, [mask], True, (0,255,0), thickness=3)\n",
    "cv2.putText(img, \"Width {} cm\".format(round(object_width, 1)), (int(x - 100), int(y - 20)), cv2.FONT_HERSHEY_PLAIN, 2, (0, 0, 200), 2)\n",
    "cv2.putText(img, \"Height {} cm\".format(round(object_height, 1)), (int(x - 100), int(y + 15)), cv2.FONT_HERSHEY_PLAIN, 2, (0, 0, 200), 2)\n",
    "cv2.imshow(\"frame\",img)\n",
    "cv2.waitKey(0)\n",
    "cv2.destroyAllWindows()\n",
    "\n",
    "\n"
   ]
  }
 ],
 "metadata": {
  "kernelspec": {
   "display_name": "base",
   "language": "python",
   "name": "python3"
  },
  "language_info": {
   "codemirror_mode": {
    "name": "ipython",
    "version": 3
   },
   "file_extension": ".py",
   "mimetype": "text/x-python",
   "name": "python",
   "nbconvert_exporter": "python",
   "pygments_lexer": "ipython3",
   "version": "3.10.10"
  }
 },
 "nbformat": 4,
 "nbformat_minor": 2
}
